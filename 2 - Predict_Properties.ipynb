{
 "cells": [
  {
   "cell_type": "code",
   "execution_count": null,
   "metadata": {},
   "outputs": [],
   "source": [
    "import pandas as pd\n",
    "import numpy as np\n",
    "import pandas as pd\n",
    "import keras\n",
    "from keras import backend as K\n",
    "from keras.layers import Input, Dense, Dropout\n",
    "from keras.layers import PReLU\n",
    "from keras.models import Model\n",
    "from tensorflow.keras.optimizers import Adamax\n",
    "import math\n",
    "import matplotlib\n",
    "import matplotlib.pyplot as plt\n",
    "from sklearn.utils import shuffle\n",
    "import matplotlib\n",
    "from sklearn.preprocessing import MinMaxScaler\n",
    "scaler = MinMaxScaler()\n"
   ]
  },
  {
   "cell_type": "code",
   "execution_count": null,
   "metadata": {},
   "outputs": [],
   "source": [
    "\n",
    "# Model fixed parameters\n",
    "NInputs = 4 # Number of features (model inputs)\n",
    "NOutputs = 3 # Number of targets (model outputs)\n",
    "\n"
   ]
  },
  {
   "cell_type": "code",
   "execution_count": null,
   "metadata": {},
   "outputs": [],
   "source": [
    "\n",
    "# Import training data (model inputs & outputs)\n",
    "Feature_Train = pd.read_csv('processed_data/SL_Train_Features.csv', header = 0)\n",
    "Feature_Train = Feature_Train[['GR', 'RHOB','NPHI','RPCELM_l10']]\n",
    "\n",
    "Feature_Train = np.asarray(Feature_Train)\n",
    "print(Feature_Train.shape)\n",
    "Target_Train = pd.read_csv('processed_data/SL_Train_Target.csv', header = 0)\n",
    "Target_Train = Target_Train[['SW', 'PHIF', 'VSH']]\n",
    "Target_Train = np.asarray(Target_Train)\n",
    "print(Target_Train.shape)\n",
    "print(Feature_Train[0])\n",
    "\n",
    "\n",
    "# Import validation data (model inputs & outputs)\n",
    "Feature_Val = pd.read_csv('processed_data/SL_Val_Features.csv', header = 0)\n",
    "Feature_Val = Feature_Val[['GR', 'RHOB','NPHI','RPCELM_l10']]\n",
    "\n",
    "Feature_Val = np.asarray(Feature_Val)\n",
    "print(Feature_Val.shape)\n",
    "Target_Val = pd.read_csv('processed_data/SL_Val_Target.csv', header = 0)\n",
    "Target_Val = Target_Val[['SW', 'PHIF', 'VSH']]\n",
    "Target_Val = np.asarray(Target_Val)\n",
    "print(Target_Val.shape)\n",
    "\n",
    "\n",
    "\n",
    "# Import test data (model inputs & outputs)\n",
    "Feature_Test = pd.read_csv('processed_data/SL_Test_Features.csv', header = 0)\n",
    "Feature_Test = Feature_Test[['GR', 'RHOB','NPHI','RPCELM_l10']]\n",
    "\n",
    "Feature_Test = np.asarray(Feature_Test)\n",
    "print(Feature_Test.shape)\n",
    "Target_Test = pd.read_csv('processed_data/SL_Test_Target.csv', header = 0)\n",
    "Target_Test = Target_Test[['SW', 'PHIF', 'VSH']]\n",
    "Target_Test = np.asarray(Target_Test)\n",
    "print(Target_Test.shape)\n",
    "\n"
   ]
  },
  {
   "cell_type": "code",
   "execution_count": null,
   "metadata": {},
   "outputs": [],
   "source": [
    "Feature_Test"
   ]
  },
  {
   "cell_type": "code",
   "execution_count": null,
   "metadata": {
    "scrolled": true
   },
   "outputs": [],
   "source": [
    "# Defining neural network\n",
    "\n",
    "rate = 0.1\n",
    "\n",
    "def nn():\n",
    "    NN_ip = Input(shape=(NInputs,))\n",
    "    x = Dense(1000)(NN_ip)\n",
    "    x = PReLU()(x)\n",
    "    x = Dropout(rate)(x)\n",
    "    x = Dense(1000)(x)\n",
    "    x = PReLU()(x)\n",
    "    x = Dropout(rate)(x)\n",
    "    NN_op = Dense(NOutputs)(x)\n",
    "       \n",
    "    NN_model = Model(NN_ip, NN_op)\n",
    "    \n",
    "    def loss_mse(true, pred):\n",
    "        mean = pred[:, :NOutputs]\n",
    "        return K.mean(K.square(true - mean), -1)\n",
    "\n",
    "    def metric_mse(y_true, y_pred):\n",
    "        mean = y_pred[:, :NOutputs]\n",
    "        return K.mean(K.square(y_true - mean), -1)\n",
    "    \n",
    "    opt = Adamax(1e-3)\n",
    "    \n",
    "    NN_model.compile(loss = loss_mse, optimizer = opt, metrics = [metric_mse])\n",
    "    \n",
    "    return NN_model\n",
    "\n",
    "NN = nn()\n",
    "NN.summary()\n"
   ]
  },
  {
   "cell_type": "code",
   "execution_count": null,
   "metadata": {
    "scrolled": true
   },
   "outputs": [],
   "source": [
    "NN = nn()\n",
    "# NN.load_weights('NNWeights.h5')\n",
    "\n",
    "history = NN.fit(Feature_Train, Target_Train, \n",
    "                     epochs = 1000, \n",
    "                     batch_size = int(Feature_Train.shape[0]/8), \n",
    "                     shuffle = True, \n",
    "                     validation_data = (Feature_Val, Target_Val))\n",
    "    \n",
    "plt.plot(history.history['val_loss'][2:],'r')\n",
    "plt.plot(history.history['loss'][2:],'k')\n"
   ]
  },
  {
   "cell_type": "code",
   "execution_count": null,
   "metadata": {},
   "outputs": [],
   "source": [
    "#3.1 Plot the predicted saturation versus the Interpreted saturation\n",
    "PredictedTarget = NN.predict(Feature_Test)\n",
    "[PredictedSw, PredictedPHIF, PredictedVSH] = [PredictedTarget[:,0], PredictedTarget[:,1], PredictedTarget[:,2]]\n"
   ]
  },
  {
   "cell_type": "code",
   "execution_count": null,
   "metadata": {},
   "outputs": [],
   "source": [
    "PredictedTarget"
   ]
  },
  {
   "cell_type": "code",
   "execution_count": null,
   "metadata": {},
   "outputs": [],
   "source": [
    "PredictedTarget.shape\n",
    "Target_Test.shape"
   ]
  },
  {
   "cell_type": "code",
   "execution_count": null,
   "metadata": {},
   "outputs": [],
   "source": [
    "plt.figure(figsize = (6,6))\n",
    "plt.style.use('seaborn-white')\n",
    "plt.scatter(Target_Test[:,0], PredictedSw)\n",
    "plt.plot(np.linspace(0, 1, 2), np.linspace(0, 1, 2), color = 'r', alpha = 1)\n",
    "plt.xlabel('Interpreted Sw', FontSize = 16)\n",
    "plt.ylabel('Predicted Sw', FontSize = 16)\n",
    "plt.show()\n"
   ]
  },
  {
   "cell_type": "code",
   "execution_count": null,
   "metadata": {},
   "outputs": [],
   "source": [
    "plt.figure(figsize = (6,6))\n",
    "plt.style.use('seaborn-white')\n",
    "plt.scatter(Target_Test[:,1], PredictedPHIF)\n",
    "plt.plot(np.linspace(0, .4, 2), np.linspace(0, .4, 2), color = 'r', alpha = 1)\n",
    "plt.xlabel('Interpreted PHIF', FontSize = 16)\n",
    "plt.ylabel('Predicted PHIF', FontSize = 16)\n",
    "plt.show()\n"
   ]
  },
  {
   "cell_type": "code",
   "execution_count": null,
   "metadata": {},
   "outputs": [],
   "source": [
    "plt.figure(figsize = (6,6))\n",
    "plt.style.use('seaborn-white')\n",
    "plt.scatter(Target_Test[:,2], PredictedVSH)\n",
    "plt.plot(np.linspace(0, .8, 2), np.linspace(0, .8, 2), color = 'r', alpha = 1)\n",
    "plt.xlabel('Interpreted VSH', FontSize = 16)\n",
    "plt.ylabel('Predicted VSH', FontSize = 16)\n",
    "plt.show()"
   ]
  },
  {
   "cell_type": "code",
   "execution_count": null,
   "metadata": {},
   "outputs": [],
   "source": [
    "output_df = pd.read_csv('processed_data/SL_Test_Target.csv', header = 0)\n",
    "type(output_df)\n",
    "output_df.insert( 4,\"PredictedSw\", PredictedSw)\n",
    "output_df.insert( 6,\"PredictedVSH\", PredictedVSH)\n",
    "output_df.insert( 8,\"PredictedPHIF\", PredictedPHIF)\n",
    "output_df\n",
    "output_df.to_csv('processed_data/SL_PredictedProperties.csv', index=True)\n"
   ]
  },
  {
   "cell_type": "code",
   "execution_count": null,
   "metadata": {},
   "outputs": [],
   "source": [
    "output_df['VSHDifference'] = abs(output_df['PredictedVSH'] - output_df['VSH'])\n",
    "output_df['PHIFDifference'] = abs(output_df['PredictedPHIF'] - output_df['PHIF'])\n",
    "output_df['SwDifference'] = abs(output_df['PredictedSw'] - output_df['SW'])"
   ]
  },
  {
   "cell_type": "markdown",
   "metadata": {},
   "source": [
    "## Plotting the Prediction Results\n",
    "After the prediction has completed, we can view the predicted result against the actual measurement on the test well: 15/9-F-11 B"
   ]
  },
  {
   "cell_type": "code",
   "execution_count": null,
   "metadata": {},
   "outputs": [],
   "source": [
    "fig, ax = plt.subplots(3, 1, figsize=(20,10))\n",
    "\n",
    "ax1 = plt.subplot2grid((2,1), (0,0))\n",
    "ax2 = plt.subplot2grid((2,1), (1,0))\n",
    "\n",
    "ax1.plot(output_df['MD'], output_df['VSH'], label='Interpreted', color='black')\n",
    "ax1.plot(output_df['MD'], output_df['PredictedVSH'], label='Predicted', color='red')\n",
    "\n",
    "ax1.set_ylabel('VSH', fontsize=16, fontweight='bold', labelpad=30)\n",
    "ax1.set_xlabel('Depth (m)', fontsize=16, fontweight='bold', labelpad=30)\n",
    "ax1.tick_params(which='both', labelsize=14)\n",
    "\n",
    "\n",
    "ax2.plot(output_df['MD'], output_df['VSHDifference'], label='Interpreted', color='black')\n",
    "ax2.set_ylim(0,1)\n",
    "\n",
    "ax2.set_ylabel('Abs. Prediction Difference', fontsize=16, fontweight='bold', labelpad=30)\n",
    "\n",
    "for ax in [ax1, ax2]:\n",
    "    ax.grid()\n",
    "    ax.set_axisbelow(True)\n",
    "    ax.set_xlabel('Depth (m)', fontsize=16, fontweight='bold', labelpad=30)\n",
    "    ax.tick_params(which='both', labelsize=14)\n",
    "\n",
    "ax1.legend(fontsize=14, facecolor='white', frameon=True)\n",
    "\n",
    "plt.show()"
   ]
  },
  {
   "cell_type": "code",
   "execution_count": null,
   "metadata": {},
   "outputs": [],
   "source": [
    "fig, ax = plt.subplots(3, 1, figsize=(20,10))\n",
    "\n",
    "ax1 = plt.subplot2grid((2,1), (0,0))\n",
    "ax2 = plt.subplot2grid((2,1), (1,0))\n",
    "\n",
    "ax1.plot(output_df['MD'], output_df['PHIF'], label='Interpreted', color='black')\n",
    "ax1.plot(output_df['MD'], output_df['PredictedPHIF'], label='Predicted', color='red')\n",
    "\n",
    "ax1.set_ylabel('PHIF', fontsize=16, fontweight='bold', labelpad=30)\n",
    "ax1.set_xlabel('Depth (m)', fontsize=16, fontweight='bold', labelpad=30)\n",
    "ax1.tick_params(which='both', labelsize=14)\n",
    "\n",
    "\n",
    "ax2.plot(output_df['MD'], output_df['PHIFDifference'], label='Interpreted', color='black')\n",
    "ax2.set_ylim(0,1)\n",
    "\n",
    "ax2.set_ylabel('Abs. Prediction Difference', fontsize=16, fontweight='bold', labelpad=30)\n",
    "\n",
    "for ax in [ax1, ax2]:\n",
    "    ax.grid()\n",
    "    ax.set_axisbelow(True)\n",
    "    ax.set_xlabel('Depth (m)', fontsize=16, fontweight='bold', labelpad=30)\n",
    "    ax.tick_params(which='both', labelsize=14)\n",
    "\n",
    "ax1.legend(fontsize=14, facecolor='white', frameon=True)\n",
    "\n",
    "plt.show()"
   ]
  },
  {
   "cell_type": "code",
   "execution_count": null,
   "metadata": {},
   "outputs": [],
   "source": [
    "fig, ax = plt.subplots(3, 1, figsize=(20,10))\n",
    "\n",
    "ax1 = plt.subplot2grid((2,1), (0,0))\n",
    "ax2 = plt.subplot2grid((2,1), (1,0))\n",
    "\n",
    "ax1.plot(output_df['MD'], output_df['SW'], label='Interpreted', color='black')\n",
    "ax1.plot(output_df['MD'], output_df['PredictedSw'], label='Predicted', color='red')\n",
    "\n",
    "ax1.set_ylabel('Water Saturation (dec)', fontsize=16, fontweight='bold', labelpad=30)\n",
    "ax1.set_xlabel('Depth (m)', fontsize=16, fontweight='bold', labelpad=30)\n",
    "ax1.tick_params(which='both', labelsize=14)\n",
    "ax1.set_xlim(4000,4500)\n",
    "\n",
    "\n",
    "ax2.plot(output_df['MD'], output_df['SwDifference'], label='Interpreted', color='black')\n",
    "ax2.set_ylim(0,1)\n",
    "\n",
    "ax2.set_ylabel('Abs. Prediction Difference', fontsize=16, fontweight='bold', labelpad=30)\n",
    "\n",
    "for ax in [ax1, ax2]:\n",
    "    ax.grid()\n",
    "    ax.set_axisbelow(True)\n",
    "    ax.set_xlabel('Depth (m)', fontsize=16, fontweight='bold', labelpad=30)\n",
    "    ax.tick_params(which='both', labelsize=14)\n",
    "\n",
    "ax1.legend(fontsize=14, facecolor='white', frameon=True)\n"
   ]
  },
  {
   "cell_type": "code",
   "execution_count": null,
   "metadata": {},
   "outputs": [],
   "source": []
  },
  {
   "cell_type": "code",
   "execution_count": null,
   "metadata": {},
   "outputs": [],
   "source": []
  }
 ],
 "metadata": {
  "kernelspec": {
   "display_name": "Python 3 (ipykernel)",
   "language": "python",
   "name": "python3"
  },
  "language_info": {
   "codemirror_mode": {
    "name": "ipython",
    "version": 3
   },
   "file_extension": ".py",
   "mimetype": "text/x-python",
   "name": "python",
   "nbconvert_exporter": "python",
   "pygments_lexer": "ipython3",
   "version": "3.9.6"
  }
 },
 "nbformat": 4,
 "nbformat_minor": 4
}
