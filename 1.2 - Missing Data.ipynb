{
 "cells": [
  {
   "cell_type": "markdown",
   "metadata": {},
   "source": [
    "# Missing Data\n",
    "\n",
    "Missing data within well logs can arise due to a multitude of reasons, including: \n",
    "- missing by choice\n",
    "- data vintage\n",
    "- missing in deliverables\n",
    "- tool or sensor failures\n",
    "- bad data intervals may have been manually removed during a previous interpretation \n",
    "\n",
    "The consequences and impact of the missing data can vary in scale and is dependent on the extent of the missing data. When large amounts of key data are missing, there can be significant consequences to operators including impacts on future exploration and development operations, reserves estimation and financial decisions. Additionally, it is often the case that surface to total depth logs are required for complete Reservoir Seismic Characterisation, therefore if only part of the data is available then only a partial characterisation can be performed.\n",
    "\n",
    "A full discussion on missing values and their impacts on machine learning models will be presented at this years conference and is detailed within the following paper: *McDonald, A., 2022. Impact of missing data on petrophysical regression-based machine learning model performance*\n",
    "\n",
    "Within Python there are a number of tools we can use to identify missing data, some of these methods include:\n",
    "\n",
    "- Pandas Dataframe summaries\n",
    "- MissingNo Library\n",
    "- Data Visualisations\n",
    "\n",
    "How to handle missing data is controversial, some argue that data should be filled in using techniques such as: mean imputation and regression imputation, whereas others argue that it is best to remove that data to prevent adding further uncertainty to the final results.\n",
    "\n",
    "In this notebook, we are going to use two main techniques for dealing with missing data: \n",
    "- **Variable Discarding** - This involves removing one or more features from the dataset if the missing values are extant within those features. This has consequences when building a machine learning model, as models require a full suite of features in all wells in order to train and make predictions.\n",
    "- **Listwise Deletion** - This is a common and convenient method for dealing with incomplete data and has become the default method. It involves removing rows within the dataset if one of the values in that row is missing. With well logs, this is equivalent to removal of a single depth level. Even though this method is fast and convenient, it can reduce the data size, which can impact the predictive power of the machine learning model."
   ]
  },
  {
   "cell_type": "markdown",
   "metadata": {},
   "source": [
    "# Importing Libraries & Data\n",
    "The first step is to import the libraries that we will require for working with the data. \n",
    "For this notebook, we will be using:\n",
    "- pandas for loading and storing the data\n",
    "- matplotlib and seaborn for visualising the data\n",
    "- numpy for a number of calculation methods\n",
    "- missingno to visualise where missing data exists"
   ]
  },
  {
   "cell_type": "code",
   "execution_count": 1,
   "metadata": {},
   "outputs": [],
   "source": [
    "import pandas as pd\n",
    "import matplotlib.pyplot as plt\n",
    "import missingno as msno\n",
    "import numpy as np"
   ]
  },
  {
   "cell_type": "markdown",
   "metadata": {},
   "source": [
    "Next, we will load the data in using the pandas `read_csv` function and assign it to the variable `df`. The data will now be stored within a structured object known as a dataframe."
   ]
  },
  {
   "cell_type": "code",
   "execution_count": 2,
   "metadata": {},
   "outputs": [],
   "source": [
    "df = pd.read_csv('data/spwla_volve_data.csv')"
   ]
  },
  {
   "cell_type": "markdown",
   "metadata": {},
   "source": [
    "As seen in the previous notebook, we can call upon a few methods to check the data quality. \n",
    "\n",
    "The `.head()` method allows us to view the first 5 rows of the dataframe."
   ]
  },
  {
   "cell_type": "code",
   "execution_count": 3,
   "metadata": {},
   "outputs": [
    {
     "data": {
      "text/html": [
       "<div>\n",
       "<style scoped>\n",
       "    .dataframe tbody tr th:only-of-type {\n",
       "        vertical-align: middle;\n",
       "    }\n",
       "\n",
       "    .dataframe tbody tr th {\n",
       "        vertical-align: top;\n",
       "    }\n",
       "\n",
       "    .dataframe thead th {\n",
       "        text-align: right;\n",
       "    }\n",
       "</style>\n",
       "<table border=\"1\" class=\"dataframe\">\n",
       "  <thead>\n",
       "    <tr style=\"text-align: right;\">\n",
       "      <th></th>\n",
       "      <th>wellName</th>\n",
       "      <th>MD</th>\n",
       "      <th>BS</th>\n",
       "      <th>CALI</th>\n",
       "      <th>DT</th>\n",
       "      <th>DTS</th>\n",
       "      <th>GR</th>\n",
       "      <th>NPHI</th>\n",
       "      <th>RACEHM</th>\n",
       "      <th>RACELM</th>\n",
       "      <th>RHOB</th>\n",
       "      <th>RPCEHM</th>\n",
       "      <th>RPCELM</th>\n",
       "      <th>PHIF</th>\n",
       "      <th>SW</th>\n",
       "      <th>VSH</th>\n",
       "    </tr>\n",
       "  </thead>\n",
       "  <tbody>\n",
       "    <tr>\n",
       "      <th>0</th>\n",
       "      <td>15/9-F-1 A</td>\n",
       "      <td>3431.0</td>\n",
       "      <td>8.5</td>\n",
       "      <td>8.6718</td>\n",
       "      <td>86.9092</td>\n",
       "      <td>181.2241</td>\n",
       "      <td>53.9384</td>\n",
       "      <td>0.3222</td>\n",
       "      <td>0.5084</td>\n",
       "      <td>0.8457</td>\n",
       "      <td>2.7514</td>\n",
       "      <td>0.6461</td>\n",
       "      <td>0.6467</td>\n",
       "      <td>0.02</td>\n",
       "      <td>1.0</td>\n",
       "      <td>0.6807</td>\n",
       "    </tr>\n",
       "    <tr>\n",
       "      <th>1</th>\n",
       "      <td>15/9-F-1 A</td>\n",
       "      <td>3431.1</td>\n",
       "      <td>8.5</td>\n",
       "      <td>8.6250</td>\n",
       "      <td>86.4334</td>\n",
       "      <td>181.1311</td>\n",
       "      <td>57.2889</td>\n",
       "      <td>0.3239</td>\n",
       "      <td>0.4695</td>\n",
       "      <td>0.8145</td>\n",
       "      <td>2.7978</td>\n",
       "      <td>0.7543</td>\n",
       "      <td>0.6570</td>\n",
       "      <td>0.02</td>\n",
       "      <td>1.0</td>\n",
       "      <td>0.7316</td>\n",
       "    </tr>\n",
       "    <tr>\n",
       "      <th>2</th>\n",
       "      <td>15/9-F-1 A</td>\n",
       "      <td>3431.2</td>\n",
       "      <td>8.5</td>\n",
       "      <td>8.6250</td>\n",
       "      <td>85.9183</td>\n",
       "      <td>180.9487</td>\n",
       "      <td>59.0455</td>\n",
       "      <td>0.3277</td>\n",
       "      <td>0.5012</td>\n",
       "      <td>0.8048</td>\n",
       "      <td>2.8352</td>\n",
       "      <td>0.8718</td>\n",
       "      <td>0.6858</td>\n",
       "      <td>0.02</td>\n",
       "      <td>1.0</td>\n",
       "      <td>0.7583</td>\n",
       "    </tr>\n",
       "    <tr>\n",
       "      <th>3</th>\n",
       "      <td>15/9-F-1 A</td>\n",
       "      <td>3431.3</td>\n",
       "      <td>8.5</td>\n",
       "      <td>8.6250</td>\n",
       "      <td>85.3834</td>\n",
       "      <td>180.7211</td>\n",
       "      <td>58.2550</td>\n",
       "      <td>0.3357</td>\n",
       "      <td>0.6048</td>\n",
       "      <td>0.7984</td>\n",
       "      <td>2.8557</td>\n",
       "      <td>0.9451</td>\n",
       "      <td>0.7913</td>\n",
       "      <td>0.02</td>\n",
       "      <td>1.0</td>\n",
       "      <td>0.7462</td>\n",
       "    </tr>\n",
       "    <tr>\n",
       "      <th>4</th>\n",
       "      <td>15/9-F-1 A</td>\n",
       "      <td>3431.4</td>\n",
       "      <td>8.5</td>\n",
       "      <td>8.6250</td>\n",
       "      <td>84.8484</td>\n",
       "      <td>180.4930</td>\n",
       "      <td>59.4569</td>\n",
       "      <td>0.3456</td>\n",
       "      <td>0.7115</td>\n",
       "      <td>0.7782</td>\n",
       "      <td>2.8632</td>\n",
       "      <td>1.0384</td>\n",
       "      <td>0.8730</td>\n",
       "      <td>0.02</td>\n",
       "      <td>1.0</td>\n",
       "      <td>0.7646</td>\n",
       "    </tr>\n",
       "  </tbody>\n",
       "</table>\n",
       "</div>"
      ],
      "text/plain": [
       "     wellName      MD   BS    CALI       DT       DTS       GR    NPHI  \\\n",
       "0  15/9-F-1 A  3431.0  8.5  8.6718  86.9092  181.2241  53.9384  0.3222   \n",
       "1  15/9-F-1 A  3431.1  8.5  8.6250  86.4334  181.1311  57.2889  0.3239   \n",
       "2  15/9-F-1 A  3431.2  8.5  8.6250  85.9183  180.9487  59.0455  0.3277   \n",
       "3  15/9-F-1 A  3431.3  8.5  8.6250  85.3834  180.7211  58.2550  0.3357   \n",
       "4  15/9-F-1 A  3431.4  8.5  8.6250  84.8484  180.4930  59.4569  0.3456   \n",
       "\n",
       "   RACEHM  RACELM    RHOB  RPCEHM  RPCELM  PHIF   SW     VSH  \n",
       "0  0.5084  0.8457  2.7514  0.6461  0.6467  0.02  1.0  0.6807  \n",
       "1  0.4695  0.8145  2.7978  0.7543  0.6570  0.02  1.0  0.7316  \n",
       "2  0.5012  0.8048  2.8352  0.8718  0.6858  0.02  1.0  0.7583  \n",
       "3  0.6048  0.7984  2.8557  0.9451  0.7913  0.02  1.0  0.7462  \n",
       "4  0.7115  0.7782  2.8632  1.0384  0.8730  0.02  1.0  0.7646  "
      ]
     },
     "execution_count": 3,
     "metadata": {},
     "output_type": "execute_result"
    }
   ],
   "source": [
    "df.head()"
   ]
  },
  {
   "cell_type": "markdown",
   "metadata": {},
   "source": [
    "The describe method provides us some summary statistics. To identify if we have missing data using this method, we need to look at the count row. If we assume that MD (measured depth) is the most complete column, we have 27,845 data points. Now, if we look at DT and DTS, we can see we only have 5,493 and 5,420 data points respectively. A number of other columns also have lower numbers, namely: RPCELM, PHIF, SW, VSH."
   ]
  },
  {
   "cell_type": "code",
   "execution_count": 4,
   "metadata": {},
   "outputs": [
    {
     "data": {
      "text/html": [
       "<div>\n",
       "<style scoped>\n",
       "    .dataframe tbody tr th:only-of-type {\n",
       "        vertical-align: middle;\n",
       "    }\n",
       "\n",
       "    .dataframe tbody tr th {\n",
       "        vertical-align: top;\n",
       "    }\n",
       "\n",
       "    .dataframe thead th {\n",
       "        text-align: right;\n",
       "    }\n",
       "</style>\n",
       "<table border=\"1\" class=\"dataframe\">\n",
       "  <thead>\n",
       "    <tr style=\"text-align: right;\">\n",
       "      <th></th>\n",
       "      <th>MD</th>\n",
       "      <th>BS</th>\n",
       "      <th>CALI</th>\n",
       "      <th>DT</th>\n",
       "      <th>DTS</th>\n",
       "      <th>GR</th>\n",
       "      <th>NPHI</th>\n",
       "      <th>RACEHM</th>\n",
       "      <th>RACELM</th>\n",
       "      <th>RHOB</th>\n",
       "      <th>RPCEHM</th>\n",
       "      <th>RPCELM</th>\n",
       "      <th>PHIF</th>\n",
       "      <th>SW</th>\n",
       "      <th>VSH</th>\n",
       "    </tr>\n",
       "  </thead>\n",
       "  <tbody>\n",
       "    <tr>\n",
       "      <th>count</th>\n",
       "      <td>27845.000000</td>\n",
       "      <td>27845.0</td>\n",
       "      <td>27845.000000</td>\n",
       "      <td>5493.000000</td>\n",
       "      <td>5420.000000</td>\n",
       "      <td>27845.000000</td>\n",
       "      <td>27845.000000</td>\n",
       "      <td>27845.000000</td>\n",
       "      <td>27845.000000</td>\n",
       "      <td>27845.000000</td>\n",
       "      <td>27845.000000</td>\n",
       "      <td>27600.000000</td>\n",
       "      <td>27736.000000</td>\n",
       "      <td>27736.000000</td>\n",
       "      <td>2.784400e+04</td>\n",
       "    </tr>\n",
       "    <tr>\n",
       "      <th>mean</th>\n",
       "      <td>3816.224960</td>\n",
       "      <td>8.5</td>\n",
       "      <td>8.625875</td>\n",
       "      <td>78.000104</td>\n",
       "      <td>131.027912</td>\n",
       "      <td>38.529140</td>\n",
       "      <td>0.188131</td>\n",
       "      <td>352.689922</td>\n",
       "      <td>97.558930</td>\n",
       "      <td>2.379268</td>\n",
       "      <td>1561.079977</td>\n",
       "      <td>30.041154</td>\n",
       "      <td>0.157434</td>\n",
       "      <td>0.531684</td>\n",
       "      <td>2.724204e-01</td>\n",
       "    </tr>\n",
       "    <tr>\n",
       "      <th>std</th>\n",
       "      <td>398.843662</td>\n",
       "      <td>0.0</td>\n",
       "      <td>0.079941</td>\n",
       "      <td>7.730495</td>\n",
       "      <td>13.230939</td>\n",
       "      <td>21.814711</td>\n",
       "      <td>0.053390</td>\n",
       "      <td>1367.355219</td>\n",
       "      <td>395.725094</td>\n",
       "      <td>0.162293</td>\n",
       "      <td>9570.308431</td>\n",
       "      <td>210.915588</td>\n",
       "      <td>0.075957</td>\n",
       "      <td>0.353637</td>\n",
       "      <td>1.872371e-01</td>\n",
       "    </tr>\n",
       "    <tr>\n",
       "      <th>min</th>\n",
       "      <td>3223.000000</td>\n",
       "      <td>8.5</td>\n",
       "      <td>8.304900</td>\n",
       "      <td>54.280000</td>\n",
       "      <td>83.574000</td>\n",
       "      <td>6.869100</td>\n",
       "      <td>0.024000</td>\n",
       "      <td>0.197400</td>\n",
       "      <td>0.234900</td>\n",
       "      <td>1.627000</td>\n",
       "      <td>0.139000</td>\n",
       "      <td>0.136600</td>\n",
       "      <td>0.001000</td>\n",
       "      <td>0.043000</td>\n",
       "      <td>1.820000e-15</td>\n",
       "    </tr>\n",
       "    <tr>\n",
       "      <th>25%</th>\n",
       "      <td>3503.000000</td>\n",
       "      <td>8.5</td>\n",
       "      <td>8.556900</td>\n",
       "      <td>72.562500</td>\n",
       "      <td>123.403425</td>\n",
       "      <td>21.128200</td>\n",
       "      <td>0.157000</td>\n",
       "      <td>1.856400</td>\n",
       "      <td>1.781000</td>\n",
       "      <td>2.240000</td>\n",
       "      <td>2.148300</td>\n",
       "      <td>1.884000</td>\n",
       "      <td>0.091000</td>\n",
       "      <td>0.201000</td>\n",
       "      <td>1.258000e-01</td>\n",
       "    </tr>\n",
       "    <tr>\n",
       "      <th>50%</th>\n",
       "      <td>3713.300000</td>\n",
       "      <td>8.5</td>\n",
       "      <td>8.625000</td>\n",
       "      <td>77.228000</td>\n",
       "      <td>131.864350</td>\n",
       "      <td>35.071000</td>\n",
       "      <td>0.183900</td>\n",
       "      <td>4.035800</td>\n",
       "      <td>3.681200</td>\n",
       "      <td>2.356000</td>\n",
       "      <td>5.136800</td>\n",
       "      <td>4.195400</td>\n",
       "      <td>0.178000</td>\n",
       "      <td>0.433000</td>\n",
       "      <td>2.400000e-01</td>\n",
       "    </tr>\n",
       "    <tr>\n",
       "      <th>75%</th>\n",
       "      <td>4057.000000</td>\n",
       "      <td>8.5</td>\n",
       "      <td>8.672000</td>\n",
       "      <td>84.342900</td>\n",
       "      <td>138.017500</td>\n",
       "      <td>49.178300</td>\n",
       "      <td>0.215200</td>\n",
       "      <td>14.929000</td>\n",
       "      <td>8.891000</td>\n",
       "      <td>2.502500</td>\n",
       "      <td>24.687400</td>\n",
       "      <td>14.782650</td>\n",
       "      <td>0.225000</td>\n",
       "      <td>1.000000</td>\n",
       "      <td>3.540000e-01</td>\n",
       "    </tr>\n",
       "    <tr>\n",
       "      <th>max</th>\n",
       "      <td>4744.000000</td>\n",
       "      <td>8.5</td>\n",
       "      <td>9.175000</td>\n",
       "      <td>96.277600</td>\n",
       "      <td>186.090800</td>\n",
       "      <td>127.055700</td>\n",
       "      <td>0.541000</td>\n",
       "      <td>6381.099100</td>\n",
       "      <td>2189.603000</td>\n",
       "      <td>3.090000</td>\n",
       "      <td>62290.770000</td>\n",
       "      <td>5571.435100</td>\n",
       "      <td>0.292000</td>\n",
       "      <td>1.000000</td>\n",
       "      <td>1.000000e+00</td>\n",
       "    </tr>\n",
       "  </tbody>\n",
       "</table>\n",
       "</div>"
      ],
      "text/plain": [
       "                 MD       BS          CALI           DT          DTS  \\\n",
       "count  27845.000000  27845.0  27845.000000  5493.000000  5420.000000   \n",
       "mean    3816.224960      8.5      8.625875    78.000104   131.027912   \n",
       "std      398.843662      0.0      0.079941     7.730495    13.230939   \n",
       "min     3223.000000      8.5      8.304900    54.280000    83.574000   \n",
       "25%     3503.000000      8.5      8.556900    72.562500   123.403425   \n",
       "50%     3713.300000      8.5      8.625000    77.228000   131.864350   \n",
       "75%     4057.000000      8.5      8.672000    84.342900   138.017500   \n",
       "max     4744.000000      8.5      9.175000    96.277600   186.090800   \n",
       "\n",
       "                 GR          NPHI        RACEHM        RACELM          RHOB  \\\n",
       "count  27845.000000  27845.000000  27845.000000  27845.000000  27845.000000   \n",
       "mean      38.529140      0.188131    352.689922     97.558930      2.379268   \n",
       "std       21.814711      0.053390   1367.355219    395.725094      0.162293   \n",
       "min        6.869100      0.024000      0.197400      0.234900      1.627000   \n",
       "25%       21.128200      0.157000      1.856400      1.781000      2.240000   \n",
       "50%       35.071000      0.183900      4.035800      3.681200      2.356000   \n",
       "75%       49.178300      0.215200     14.929000      8.891000      2.502500   \n",
       "max      127.055700      0.541000   6381.099100   2189.603000      3.090000   \n",
       "\n",
       "             RPCEHM        RPCELM          PHIF            SW           VSH  \n",
       "count  27845.000000  27600.000000  27736.000000  27736.000000  2.784400e+04  \n",
       "mean    1561.079977     30.041154      0.157434      0.531684  2.724204e-01  \n",
       "std     9570.308431    210.915588      0.075957      0.353637  1.872371e-01  \n",
       "min        0.139000      0.136600      0.001000      0.043000  1.820000e-15  \n",
       "25%        2.148300      1.884000      0.091000      0.201000  1.258000e-01  \n",
       "50%        5.136800      4.195400      0.178000      0.433000  2.400000e-01  \n",
       "75%       24.687400     14.782650      0.225000      1.000000  3.540000e-01  \n",
       "max    62290.770000   5571.435100      0.292000      1.000000  1.000000e+00  "
      ]
     },
     "execution_count": 4,
     "metadata": {},
     "output_type": "execute_result"
    }
   ],
   "source": [
    "df.describe()"
   ]
  },
  {
   "cell_type": "markdown",
   "metadata": {},
   "source": [
    "To gain a clearer insight, we can call upon the `info()` method to see how many non-null values exist for each column. Right away we can see the ones highlighted previously have lower numbers of non-null values."
   ]
  },
  {
   "cell_type": "code",
   "execution_count": 5,
   "metadata": {},
   "outputs": [
    {
     "name": "stdout",
     "output_type": "stream",
     "text": [
      "<class 'pandas.core.frame.DataFrame'>\n",
      "RangeIndex: 27845 entries, 0 to 27844\n",
      "Data columns (total 16 columns):\n",
      " #   Column    Non-Null Count  Dtype  \n",
      "---  ------    --------------  -----  \n",
      " 0   wellName  27845 non-null  object \n",
      " 1   MD        27845 non-null  float64\n",
      " 2   BS        27845 non-null  float64\n",
      " 3   CALI      27845 non-null  float64\n",
      " 4   DT        5493 non-null   float64\n",
      " 5   DTS       5420 non-null   float64\n",
      " 6   GR        27845 non-null  float64\n",
      " 7   NPHI      27845 non-null  float64\n",
      " 8   RACEHM    27845 non-null  float64\n",
      " 9   RACELM    27845 non-null  float64\n",
      " 10  RHOB      27845 non-null  float64\n",
      " 11  RPCEHM    27845 non-null  float64\n",
      " 12  RPCELM    27600 non-null  float64\n",
      " 13  PHIF      27736 non-null  float64\n",
      " 14  SW        27736 non-null  float64\n",
      " 15  VSH       27844 non-null  float64\n",
      "dtypes: float64(15), object(1)\n",
      "memory usage: 3.4+ MB\n"
     ]
    }
   ],
   "source": [
    "df.info()"
   ]
  },
  {
   "cell_type": "markdown",
   "metadata": {},
   "source": [
    "## Using missingno to Visualise Data Sparsity\n",
    "\n",
    "The missingno library is designed to take a dataframe and allow you to visualise where gaps may exist. \n",
    "\n",
    "We can simply call upon the `.matrix()` method and pass in the dataframe object. When we do, we generate a graphical view of the dataframe.\n",
    "\n",
    "In the plot below, we can see that there are significant gaps within the DT and DTS columns, with minor gaps in the RPCELM, PHIF, and SW columns. \n",
    "\n",
    "The sparkline to the right hand side of the plot provides an indication of data completeness. If the line is at the maximum value (to the right) it shows that data row as being complete. "
   ]
  },
  {
   "cell_type": "code",
   "execution_count": 6,
   "metadata": {},
   "outputs": [
    {
     "data": {
      "image/png": "[encoded data removed]",
      "text/plain": [
       "<Figure size 1800x720 with 2 Axes>"
      ]
     },
     "metadata": {
      "needs_background": "light"
     },
     "output_type": "display_data"
    }
   ],
   "source": [
    "msno.matrix(df)\n",
    "plt.show()"
   ]
  },
  {
   "cell_type": "markdown",
   "metadata": {},
   "source": [
    "Another plot we can call upon is the bar plot, which provides a graphical summary of the number of points in each columns."
   ]
  },
  {
   "cell_type": "code",
   "execution_count": 7,
   "metadata": {},
   "outputs": [
    {
     "data": {
      "text/plain": [
       "<AxesSubplot:>"
      ]
     },
     "execution_count": 7,
     "metadata": {},
     "output_type": "execute_result"
    },
    {
     "data": {
      "image/png": "[encoded data removed]",
      "text/plain": [
       "<Figure size 1800x720 with 3 Axes>"
      ]
     },
     "metadata": {
      "needs_background": "light"
     },
     "output_type": "display_data"
    }
   ],
   "source": [
    "msno.bar(df)"
   ]
  },
  {
   "cell_type": "markdown",
   "metadata": {},
   "source": [
    "## Using matplotlib to Visualise Missing Data in Well\n",
    "\n",
    "We can generate our own plots to show how the data sparsity varies across each of the wells. In order to do this, we need to manipulate the dataframe.\n",
    "\n",
    "First we create a copy of the dataframe to work on separately, and then replace each column with a value of 1 if the data is non-null.\n",
    "\n",
    "To make our plot work, we need to increment each column's value by 1. This allows us to plot each column as an offset to the previous one."
   ]
  },
  {
   "cell_type": "code",
   "execution_count": 9,
   "metadata": {},
   "outputs": [],
   "source": [
    "data_nan = df.copy()\n",
    "for num, col in enumerate(data_nan.columns[2:]):\n",
    "    data_nan[col] = data_nan[col].notnull() * (num + 1)\n",
    "    data_nan[col].replace(0, num, inplace=True)"
   ]
  },
  {
   "cell_type": "markdown",
   "metadata": {},
   "source": [
    "When we view the header of the dataframe we now have a series of columns with increasing values from 1 to 14."
   ]
  },
  {
   "cell_type": "code",
   "execution_count": 10,
   "metadata": {},
   "outputs": [
    {
     "data": {
      "text/html": [
       "<div>\n",
       "<style scoped>\n",
       "    .dataframe tbody tr th:only-of-type {\n",
       "        vertical-align: middle;\n",
       "    }\n",
       "\n",
       "    .dataframe tbody tr th {\n",
       "        vertical-align: top;\n",
       "    }\n",
       "\n",
       "    .dataframe thead th {\n",
       "        text-align: right;\n",
       "    }\n",
       "</style>\n",
       "<table border=\"1\" class=\"dataframe\">\n",
       "  <thead>\n",
       "    <tr style=\"text-align: right;\">\n",
       "      <th></th>\n",
       "      <th>wellName</th>\n",
       "      <th>MD</th>\n",
       "      <th>BS</th>\n",
       "      <th>CALI</th>\n",
       "      <th>DT</th>\n",
       "      <th>DTS</th>\n",
       "      <th>GR</th>\n",
       "      <th>NPHI</th>\n",
       "      <th>RACEHM</th>\n",
       "      <th>RACELM</th>\n",
       "      <th>RHOB</th>\n",
       "      <th>RPCEHM</th>\n",
       "      <th>RPCELM</th>\n",
       "      <th>PHIF</th>\n",
       "      <th>SW</th>\n",
       "      <th>VSH</th>\n",
       "    </tr>\n",
       "  </thead>\n",
       "  <tbody>\n",
       "    <tr>\n",
       "      <th>0</th>\n",
       "      <td>15/9-F-1 A</td>\n",
       "      <td>3431.0</td>\n",
       "      <td>1</td>\n",
       "      <td>2</td>\n",
       "      <td>3</td>\n",
       "      <td>4</td>\n",
       "      <td>5</td>\n",
       "      <td>6</td>\n",
       "      <td>7</td>\n",
       "      <td>8</td>\n",
       "      <td>9</td>\n",
       "      <td>10</td>\n",
       "      <td>11</td>\n",
       "      <td>12</td>\n",
       "      <td>13</td>\n",
       "      <td>14</td>\n",
       "    </tr>\n",
       "    <tr>\n",
       "      <th>1</th>\n",
       "      <td>15/9-F-1 A</td>\n",
       "      <td>3431.1</td>\n",
       "      <td>1</td>\n",
       "      <td>2</td>\n",
       "      <td>3</td>\n",
       "      <td>4</td>\n",
       "      <td>5</td>\n",
       "      <td>6</td>\n",
       "      <td>7</td>\n",
       "      <td>8</td>\n",
       "      <td>9</td>\n",
       "      <td>10</td>\n",
       "      <td>11</td>\n",
       "      <td>12</td>\n",
       "      <td>13</td>\n",
       "      <td>14</td>\n",
       "    </tr>\n",
       "    <tr>\n",
       "      <th>2</th>\n",
       "      <td>15/9-F-1 A</td>\n",
       "      <td>3431.2</td>\n",
       "      <td>1</td>\n",
       "      <td>2</td>\n",
       "      <td>3</td>\n",
       "      <td>4</td>\n",
       "      <td>5</td>\n",
       "      <td>6</td>\n",
       "      <td>7</td>\n",
       "      <td>8</td>\n",
       "      <td>9</td>\n",
       "      <td>10</td>\n",
       "      <td>11</td>\n",
       "      <td>12</td>\n",
       "      <td>13</td>\n",
       "      <td>14</td>\n",
       "    </tr>\n",
       "    <tr>\n",
       "      <th>3</th>\n",
       "      <td>15/9-F-1 A</td>\n",
       "      <td>3431.3</td>\n",
       "      <td>1</td>\n",
       "      <td>2</td>\n",
       "      <td>3</td>\n",
       "      <td>4</td>\n",
       "      <td>5</td>\n",
       "      <td>6</td>\n",
       "      <td>7</td>\n",
       "      <td>8</td>\n",
       "      <td>9</td>\n",
       "      <td>10</td>\n",
       "      <td>11</td>\n",
       "      <td>12</td>\n",
       "      <td>13</td>\n",
       "      <td>14</td>\n",
       "    </tr>\n",
       "    <tr>\n",
       "      <th>4</th>\n",
       "      <td>15/9-F-1 A</td>\n",
       "      <td>3431.4</td>\n",
       "      <td>1</td>\n",
       "      <td>2</td>\n",
       "      <td>3</td>\n",
       "      <td>4</td>\n",
       "      <td>5</td>\n",
       "      <td>6</td>\n",
       "      <td>7</td>\n",
       "      <td>8</td>\n",
       "      <td>9</td>\n",
       "      <td>10</td>\n",
       "      <td>11</td>\n",
       "      <td>12</td>\n",
       "      <td>13</td>\n",
       "      <td>14</td>\n",
       "    </tr>\n",
       "  </tbody>\n",
       "</table>\n",
       "</div>"
      ],
      "text/plain": [
       "     wellName      MD  BS  CALI  DT  DTS  GR  NPHI  RACEHM  RACELM  RHOB  \\\n",
       "0  15/9-F-1 A  3431.0   1     2   3    4   5     6       7       8     9   \n",
       "1  15/9-F-1 A  3431.1   1     2   3    4   5     6       7       8     9   \n",
       "2  15/9-F-1 A  3431.2   1     2   3    4   5     6       7       8     9   \n",
       "3  15/9-F-1 A  3431.3   1     2   3    4   5     6       7       8     9   \n",
       "4  15/9-F-1 A  3431.4   1     2   3    4   5     6       7       8     9   \n",
       "\n",
       "   RPCEHM  RPCELM  PHIF  SW  VSH  \n",
       "0      10      11    12  13   14  \n",
       "1      10      11    12  13   14  \n",
       "2      10      11    12  13   14  \n",
       "3      10      11    12  13   14  \n",
       "4      10      11    12  13   14  "
      ]
     },
     "execution_count": 10,
     "metadata": {},
     "output_type": "execute_result"
    }
   ],
   "source": [
    "data_nan.head()"
   ]
  },
  {
   "cell_type": "markdown",
   "metadata": {},
   "source": [
    "Next, we can group the dataframe by the wellName column."
   ]
  },
  {
   "cell_type": "code",
   "execution_count": 11,
   "metadata": {},
   "outputs": [],
   "source": [
    "grouped = data_nan.groupby('wellName')"
   ]
  },
  {
   "cell_type": "markdown",
   "metadata": {},
   "source": [
    "We can then create multiple subplots for each well using the new dataframe. Rather than creating subplots within subplots, we can shade from the previous column's max value to the current column's max value if the data is present. If data is absent, it will be displayed as a gap."
   ]
  },
  {
   "cell_type": "code",
   "execution_count": 12,
   "metadata": {},
   "outputs": [
    {
     "data": {
      "image/png": "[encoded data removed]",
      "text/plain": [
       "<Figure size 1440x1440 with 6 Axes>"
      ]
     },
     "metadata": {
      "needs_background": "light"
     },
     "output_type": "display_data"
    }
   ],
   "source": [
    "#Setup the labels we want to display on the x-axis\n",
    "labels = ['BS', 'CALI', 'DT', 'DTS', 'GR', 'NPHI', 'RACEHM', 'RACELM', 'RHOB', 'RPCEHM', 'RPCELM', 'PHIF', 'SW', 'VSH']\n",
    "#Setup the figure and the subplots\n",
    "fig, axs = plt.subplots(3, 2, figsize=(20,20))\n",
    "#Loop through each well and column in the grouped dataframe\n",
    "for (name, well), ax in zip(grouped, axs.flat):\n",
    "    ax.set_xlim(0,9)\n",
    "    \n",
    "    #Setup the depth range\n",
    "    ax.set_ylim(well.MD.max() + 50, well.MD.min() - 50)\n",
    "    ax.set_ylim(well.MD.max() + 50, well.MD.min() - 50)\n",
    "    \n",
    "    # Create multiple fill betweens for each curve# This is between\n",
    "    # the number representing null values and the number representing\n",
    "    # actual values\n",
    "    ticks = []\n",
    "    ticks_labels = []\n",
    "    for i, curve in enumerate(labels):\n",
    "        ax.fill_betweenx(well.MD, i, well[curve], facecolor='lightblue')\n",
    "        ticks.append(i)\n",
    "        ticks_labels.append(i+0.5)\n",
    "    \n",
    "    # add extra value on to ticks\n",
    "    ticks.append(len(ticks))\n",
    "    \n",
    "    #Setup the grid, axis labels and ticks\n",
    "    ax.grid(axis='x', alpha=0.5, color='black')\n",
    "    ax.set_ylabel('DEPTH (m)', fontsize=18, fontweight='bold')\n",
    "    \n",
    "    #Position vertical lines at the boundaries between the bars\n",
    "    ax.set_xticks(ticks, minor=False)\n",
    "    \n",
    "    #Position the curve names in the centre of each column\n",
    "    ax.set_xticks(ticks_labels, minor=True)\n",
    "    \n",
    "    #Setup the x-axis tick labels\n",
    "    ax.set_xticklabels(labels,  rotation='vertical', minor=True, verticalalignment='bottom', fontsize=14)\n",
    "    ax.set_xticklabels('', minor=False)\n",
    "    ax.tick_params(axis='x', which='minor', pad=-10)\n",
    "    ax.tick_params(axis='y', labelsize=14 )\n",
    "    \n",
    "    #Assign the well name as the title to each subplot\n",
    "    ax.set_title(name, fontsize=16, fontweight='bold')\n",
    "plt.tight_layout()\n",
    "plt.subplots_adjust(hspace=0.15, wspace=0.25)\n",
    "# plt.savefig('missingdata.png', dpi=200)\n",
    "plt.show()"
   ]
  },
  {
   "cell_type": "markdown",
   "metadata": {},
   "source": [
    "From the plot, we can not only see the data range of each well, but we can also see that 2 of the 5 wells have missing DT and DTS curves, 2 of the wells have missing data within RPCELM, and 2 of the wells have missing values in the PHIF and SW curves."
   ]
  },
  {
   "cell_type": "markdown",
   "metadata": {},
   "source": [
    "## Dealing With Missing Data\n",
    "### Discarding Variables\n",
    "\n",
    "As DT and DTS are missing in two of the wells, we have the option to remove these wells from the dataset, or we can remove these two columns for all of the wells.\n",
    "\n",
    "The following is an example of how we remove the two curves from the dataframe. For this we can pass in a list of the columns names to the `drop()` function, the axis, which we want to drop data along, in this case the columns (axis=1), and the `inplace=True` argument allows us to physically remove these values from the dataframe."
   ]
  },
  {
   "cell_type": "code",
   "execution_count": 13,
   "metadata": {},
   "outputs": [],
   "source": [
    "df.drop(df[['DT', 'DTS']], axis=1, inplace=True)"
   ]
  },
  {
   "cell_type": "markdown",
   "metadata": {},
   "source": [
    "If we view the header of the dataframe, we will see that we have removed the required columns."
   ]
  },
  {
   "cell_type": "code",
   "execution_count": 14,
   "metadata": {},
   "outputs": [
    {
     "data": {
      "text/html": [
       "<div>\n",
       "<style scoped>\n",
       "    .dataframe tbody tr th:only-of-type {\n",
       "        vertical-align: middle;\n",
       "    }\n",
       "\n",
       "    .dataframe tbody tr th {\n",
       "        vertical-align: top;\n",
       "    }\n",
       "\n",
       "    .dataframe thead th {\n",
       "        text-align: right;\n",
       "    }\n",
       "</style>\n",
       "<table border=\"1\" class=\"dataframe\">\n",
       "  <thead>\n",
       "    <tr style=\"text-align: right;\">\n",
       "      <th></th>\n",
       "      <th>wellName</th>\n",
       "      <th>MD</th>\n",
       "      <th>BS</th>\n",
       "      <th>CALI</th>\n",
       "      <th>GR</th>\n",
       "      <th>NPHI</th>\n",
       "      <th>RACEHM</th>\n",
       "      <th>RACELM</th>\n",
       "      <th>RHOB</th>\n",
       "      <th>RPCEHM</th>\n",
       "      <th>RPCELM</th>\n",
       "      <th>PHIF</th>\n",
       "      <th>SW</th>\n",
       "      <th>VSH</th>\n",
       "    </tr>\n",
       "  </thead>\n",
       "  <tbody>\n",
       "    <tr>\n",
       "      <th>0</th>\n",
       "      <td>15/9-F-1 A</td>\n",
       "      <td>3431.0</td>\n",
       "      <td>8.5</td>\n",
       "      <td>8.6718</td>\n",
       "      <td>53.9384</td>\n",
       "      <td>0.3222</td>\n",
       "      <td>0.5084</td>\n",
       "      <td>0.8457</td>\n",
       "      <td>2.7514</td>\n",
       "      <td>0.6461</td>\n",
       "      <td>0.6467</td>\n",
       "      <td>0.02</td>\n",
       "      <td>1.0</td>\n",
       "      <td>0.6807</td>\n",
       "    </tr>\n",
       "    <tr>\n",
       "      <th>1</th>\n",
       "      <td>15/9-F-1 A</td>\n",
       "      <td>3431.1</td>\n",
       "      <td>8.5</td>\n",
       "      <td>8.6250</td>\n",
       "      <td>57.2889</td>\n",
       "      <td>0.3239</td>\n",
       "      <td>0.4695</td>\n",
       "      <td>0.8145</td>\n",
       "      <td>2.7978</td>\n",
       "      <td>0.7543</td>\n",
       "      <td>0.6570</td>\n",
       "      <td>0.02</td>\n",
       "      <td>1.0</td>\n",
       "      <td>0.7316</td>\n",
       "    </tr>\n",
       "    <tr>\n",
       "      <th>2</th>\n",
       "      <td>15/9-F-1 A</td>\n",
       "      <td>3431.2</td>\n",
       "      <td>8.5</td>\n",
       "      <td>8.6250</td>\n",
       "      <td>59.0455</td>\n",
       "      <td>0.3277</td>\n",
       "      <td>0.5012</td>\n",
       "      <td>0.8048</td>\n",
       "      <td>2.8352</td>\n",
       "      <td>0.8718</td>\n",
       "      <td>0.6858</td>\n",
       "      <td>0.02</td>\n",
       "      <td>1.0</td>\n",
       "      <td>0.7583</td>\n",
       "    </tr>\n",
       "    <tr>\n",
       "      <th>3</th>\n",
       "      <td>15/9-F-1 A</td>\n",
       "      <td>3431.3</td>\n",
       "      <td>8.5</td>\n",
       "      <td>8.6250</td>\n",
       "      <td>58.2550</td>\n",
       "      <td>0.3357</td>\n",
       "      <td>0.6048</td>\n",
       "      <td>0.7984</td>\n",
       "      <td>2.8557</td>\n",
       "      <td>0.9451</td>\n",
       "      <td>0.7913</td>\n",
       "      <td>0.02</td>\n",
       "      <td>1.0</td>\n",
       "      <td>0.7462</td>\n",
       "    </tr>\n",
       "    <tr>\n",
       "      <th>4</th>\n",
       "      <td>15/9-F-1 A</td>\n",
       "      <td>3431.4</td>\n",
       "      <td>8.5</td>\n",
       "      <td>8.6250</td>\n",
       "      <td>59.4569</td>\n",
       "      <td>0.3456</td>\n",
       "      <td>0.7115</td>\n",
       "      <td>0.7782</td>\n",
       "      <td>2.8632</td>\n",
       "      <td>1.0384</td>\n",
       "      <td>0.8730</td>\n",
       "      <td>0.02</td>\n",
       "      <td>1.0</td>\n",
       "      <td>0.7646</td>\n",
       "    </tr>\n",
       "  </tbody>\n",
       "</table>\n",
       "</div>"
      ],
      "text/plain": [
       "     wellName      MD   BS    CALI       GR    NPHI  RACEHM  RACELM    RHOB  \\\n",
       "0  15/9-F-1 A  3431.0  8.5  8.6718  53.9384  0.3222  0.5084  0.8457  2.7514   \n",
       "1  15/9-F-1 A  3431.1  8.5  8.6250  57.2889  0.3239  0.4695  0.8145  2.7978   \n",
       "2  15/9-F-1 A  3431.2  8.5  8.6250  59.0455  0.3277  0.5012  0.8048  2.8352   \n",
       "3  15/9-F-1 A  3431.3  8.5  8.6250  58.2550  0.3357  0.6048  0.7984  2.8557   \n",
       "4  15/9-F-1 A  3431.4  8.5  8.6250  59.4569  0.3456  0.7115  0.7782  2.8632   \n",
       "\n",
       "   RPCEHM  RPCELM  PHIF   SW     VSH  \n",
       "0  0.6461  0.6467  0.02  1.0  0.6807  \n",
       "1  0.7543  0.6570  0.02  1.0  0.7316  \n",
       "2  0.8718  0.6858  0.02  1.0  0.7583  \n",
       "3  0.9451  0.7913  0.02  1.0  0.7462  \n",
       "4  1.0384  0.8730  0.02  1.0  0.7646  "
      ]
     },
     "execution_count": 14,
     "metadata": {},
     "output_type": "execute_result"
    }
   ],
   "source": [
    "df.head()"
   ]
  },
  {
   "cell_type": "markdown",
   "metadata": {},
   "source": [
    "However, if we call upon the info method, we can see we still have null values within the dataframe."
   ]
  },
  {
   "cell_type": "code",
   "execution_count": 15,
   "metadata": {},
   "outputs": [
    {
     "name": "stdout",
     "output_type": "stream",
     "text": [
      "<class 'pandas.core.frame.DataFrame'>\n",
      "RangeIndex: 27845 entries, 0 to 27844\n",
      "Data columns (total 14 columns):\n",
      " #   Column    Non-Null Count  Dtype  \n",
      "---  ------    --------------  -----  \n",
      " 0   wellName  27845 non-null  object \n",
      " 1   MD        27845 non-null  float64\n",
      " 2   BS        27845 non-null  float64\n",
      " 3   CALI      27845 non-null  float64\n",
      " 4   GR        27845 non-null  float64\n",
      " 5   NPHI      27845 non-null  float64\n",
      " 6   RACEHM    27845 non-null  float64\n",
      " 7   RACELM    27845 non-null  float64\n",
      " 8   RHOB      27845 non-null  float64\n",
      " 9   RPCEHM    27845 non-null  float64\n",
      " 10  RPCELM    27600 non-null  float64\n",
      " 11  PHIF      27736 non-null  float64\n",
      " 12  SW        27736 non-null  float64\n",
      " 13  VSH       27844 non-null  float64\n",
      "dtypes: float64(13), object(1)\n",
      "memory usage: 3.0+ MB\n"
     ]
    }
   ],
   "source": [
    "df.info()"
   ]
  },
  {
   "cell_type": "markdown",
   "metadata": {},
   "source": [
    "### Discarding NaNs"
   ]
  },
  {
   "cell_type": "markdown",
   "metadata": {},
   "source": [
    "We can drop missing values by calling upon a special function called `dropna()`. This will remove any NaN (Not a Number) values from the dataframe. The `inplace=True` argument allows us to physically remove these values from the dataframe."
   ]
  },
  {
   "cell_type": "code",
   "execution_count": 16,
   "metadata": {},
   "outputs": [],
   "source": [
    "df.dropna(inplace=True)"
   ]
  },
  {
   "cell_type": "code",
   "execution_count": 17,
   "metadata": {},
   "outputs": [
    {
     "name": "stdout",
     "output_type": "stream",
     "text": [
      "<class 'pandas.core.frame.DataFrame'>\n",
      "Int64Index: 27491 entries, 0 to 27844\n",
      "Data columns (total 14 columns):\n",
      " #   Column    Non-Null Count  Dtype  \n",
      "---  ------    --------------  -----  \n",
      " 0   wellName  27491 non-null  object \n",
      " 1   MD        27491 non-null  float64\n",
      " 2   BS        27491 non-null  float64\n",
      " 3   CALI      27491 non-null  float64\n",
      " 4   GR        27491 non-null  float64\n",
      " 5   NPHI      27491 non-null  float64\n",
      " 6   RACEHM    27491 non-null  float64\n",
      " 7   RACELM    27491 non-null  float64\n",
      " 8   RHOB      27491 non-null  float64\n",
      " 9   RPCEHM    27491 non-null  float64\n",
      " 10  RPCELM    27491 non-null  float64\n",
      " 11  PHIF      27491 non-null  float64\n",
      " 12  SW        27491 non-null  float64\n",
      " 13  VSH       27491 non-null  float64\n",
      "dtypes: float64(13), object(1)\n",
      "memory usage: 3.1+ MB\n"
     ]
    }
   ],
   "source": [
    "df.info()"
   ]
  },
  {
   "cell_type": "markdown",
   "metadata": {},
   "source": [
    "# Summary\n",
    "\n",
    "This short notebook has shown three separate ways to visualise missing data. T\n",
    "1. Interrogating the dataframe\n",
    "2. Using the missingno library \n",
    "3. Creating a custom visualisation with matplotlib.\n",
    "\n",
    "At the end, we covered two ways in which missing data can be removed from the dataframe. The first by discarding variables, and the second by discarding missing values within the rows.\n"
   ]
  },
  {
   "cell_type": "code",
   "execution_count": null,
   "metadata": {},
   "outputs": [],
   "source": []
  },
  {
   "cell_type": "code",
   "execution_count": null,
   "metadata": {},
   "outputs": [],
   "source": []
  }
 ],
 "metadata": {
  "kernelspec": {
   "display_name": "Python 3 (ipykernel)",
   "language": "python",
   "name": "python3"
  },
  "language_info": {
   "codemirror_mode": {
    "name": "ipython",
    "version": 3
   },
   "file_extension": ".py",
   "mimetype": "text/x-python",
   "name": "python",
   "nbconvert_exporter": "python",
   "pygments_lexer": "ipython3",
   "version": "3.9.6"
  }
 },
 "nbformat": 4,
 "nbformat_minor": 4
}
